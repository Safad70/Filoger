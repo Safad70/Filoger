{
  "nbformat": 4,
  "nbformat_minor": 0,
  "metadata": {
    "colab": {
      "provenance": [],
      "authorship_tag": "ABX9TyPLjVg59IaMyFSc76FjVqSA",
      "include_colab_link": true
    },
    "kernelspec": {
      "name": "python3",
      "display_name": "Python 3"
    },
    "language_info": {
      "name": "python"
    }
  },
  "cells": [
    {
      "cell_type": "markdown",
      "metadata": {
        "id": "view-in-github",
        "colab_type": "text"
      },
      "source": [
        "<a href=\"https://colab.research.google.com/github/Safad70/Filoger/blob/main/FPYC_Apr23_Python_Ex05_Safa_Dastmard.ipynb\" target=\"_parent\"><img src=\"https://colab.research.google.com/assets/colab-badge.svg\" alt=\"Open In Colab\"/></a>"
      ]
    },
    {
      "cell_type": "markdown",
      "source": [
        "#Q1"
      ],
      "metadata": {
        "id": "r-FwfIWI0tzr"
      }
    },
    {
      "cell_type": "markdown",
      "source": [
        "Based on the lists below, answer the questions\n",
        "my_list= [2, 15, 0,\"python\", 4.6,\"java\",90, 10]\n",
        "\n",
        "1.Print first and last items of the list\n",
        "\n",
        "2.Remove first and last items of the list\n",
        "\n",
        "3.Remove 90 and 300 from the list\n",
        "\n",
        "4.Add 5 between 15 and 0\n",
        "\n",
        "5.Edit \"Js\" with \"python\"\n",
        "\n",
        "6.Add 50 at the end of the list\n",
        "\n",
        "7.Search for 0 in the list and if it is in the list print \"yes\" else print \"no\""
      ],
      "metadata": {
        "id": "NfpXNLTQ0xOE"
      }
    },
    {
      "cell_type": "code",
      "execution_count": null,
      "metadata": {
        "colab": {
          "base_uri": "https://localhost:8080/"
        },
        "id": "rd7rm1Q_0b4Y",
        "outputId": "aa663411-f789-4354-9f0d-ce86a14bcccf"
      },
      "outputs": [
        {
          "output_type": "stream",
          "name": "stdout",
          "text": [
            "2 10\n",
            "yes\n"
          ]
        },
        {
          "output_type": "execute_result",
          "data": {
            "text/plain": [
              "[15, 5, 0, 'Js', 4.6, 'java', 50]"
            ]
          },
          "metadata": {},
          "execution_count": 16
        }
      ],
      "source": [
        "# 1. Print first and last items of the list\n",
        "my_list= [2, 15, 0,\"python\", 4.6,\"java\",90, 10]\n",
        "print(my_list[0],my_list[-1])\n",
        "\n",
        "#2.Remove first and last items of the list\n",
        "my_list.remove(my_list[0])\n",
        "my_list.remove(my_list[-1])\n",
        "\n",
        "#3.Remove 90 and 300 from the list\n",
        "if 90 in my_list:\n",
        "    my_list.remove(90)\n",
        "if 300 in my_list:\n",
        "    my_list.remove(300)\n",
        "\n",
        "#4.Add 5 between 15 and 0\n",
        "x15= my_list.index(15)\n",
        "x0=my_list.index(0)\n",
        "if x15 + 1== x0:\n",
        "  my_list.insert(x0,5)\n",
        "\n",
        "#5.Edit \"Js\" with \"python\"\n",
        "if \"python\" in my_list:\n",
        "  indexx= my_list.index(\"python\")\n",
        "  my_list[indexx] = \"Js\"\n",
        "\n",
        "#6.Add 50 at the end of the list\n",
        "my_list.append(50)\n",
        "\n",
        "#7.Search for 0 in the list and if it is in the list print \"yes\" else print \"no\"\n",
        "if 0 in my_list:\n",
        "  print(\"yes\")\n",
        "else:\n",
        "  print(\"no\")\n",
        "\n",
        "my_list\n"
      ]
    },
    {
      "cell_type": "markdown",
      "source": [
        "##Q2"
      ],
      "metadata": {
        "id": "QrlcfegbEgoA"
      }
    },
    {
      "cell_type": "markdown",
      "source": [
        "Get a string in one of the following forms from the input and display the expected result.\n",
        "\n",
        "Sample1: 2 + 3 = ?\n",
        "\n",
        "Output: 2 + 3 = 5\n",
        "\n",
        "Sample2: 2 -3 = ?\n",
        "\n",
        "Output: 2 -3 = -1\n",
        "\n",
        "Sample3: 2 * 3 = ?\n",
        "\n",
        "Output: 2 * 3 = 6\n",
        "\n",
        "Sample4: 5 / 2 = ?\n",
        "\n",
        "Output: 5 / 2 = 2.5\n",
        "\n",
        "Sample5: 2 / 0 = ?\n",
        "\n",
        "Output: 2 / 0 = Error"
      ],
      "metadata": {
        "id": "7DvJ0sDdEi3e"
      }
    },
    {
      "cell_type": "code",
      "source": [
        "entry= input(\"Please enter the problem: \")\n",
        "\n",
        "try:\n",
        "  if \"+\" in entry:\n",
        "    a , b = entry.split(\"+\")\n",
        "    print(f\"{a} + {b} = {int(a)+int(b)}\")\n",
        "\n",
        "  elif \"-\" in entry:  \n",
        "    a , b = entry.split(\"-\")\n",
        "    print(f\"{a} - {b} = {int(a)-int(b)}\")\n",
        "\n",
        "  elif \"*\" in entry:\n",
        "    a , b = entry.split(\"*\")\n",
        "    print(f\"{a} * {b} = {int(a)*int(b)}\")\n",
        "\n",
        "\n",
        "  elif \"/\" in entry:\n",
        "    a , b = entry.split(\"/\")\n",
        "    if int(b) == 0:\n",
        "      print(\"Error\")  \n",
        "    else:\n",
        "\n",
        "      print(f\"{a} / {b} = {int(a)/int(b)}\")\n",
        "  else:\n",
        "    print(\"I am sorry, I am just a basic calculator, please be nice with me ;)\")    \n",
        "except:\n",
        "  print(\"Err\")"
      ],
      "metadata": {
        "colab": {
          "base_uri": "https://localhost:8080/"
        },
        "id": "bULEJQTPFm-J",
        "outputId": "3f54201b-53c9-4106-b0ce-1fe3dea80efb"
      },
      "execution_count": null,
      "outputs": [
        {
          "output_type": "stream",
          "name": "stdout",
          "text": [
            "Please enter the problem: 5/0\n",
            "Error\n"
          ]
        }
      ]
    },
    {
      "cell_type": "markdown",
      "source": [
        "#Q3"
      ],
      "metadata": {
        "id": "fXq3zUlmKqhP"
      }
    },
    {
      "cell_type": "markdown",
      "source": [
        "Based on the two lists below, make a third list that includes the data that is in the first list and not in the second list.\n",
        "\n",
        "List1 = [ 12, 2, 34, 10, 4, 18, 10]\n",
        "\n",
        "List2 = [12, 100, 10, 4, 5, 50]"
      ],
      "metadata": {
        "id": "vohdaYY3Ksm_"
      }
    },
    {
      "cell_type": "code",
      "source": [
        "list1 = [ 12, 2, 34, 10, 4, 18, 10]\n",
        "\n",
        "list2 = [12, 100, 10, 4, 5, 50]\n",
        "list3 = []\n",
        "\n",
        "for i in list1:\n",
        "  if i in List2:\n",
        "    pass\n",
        "  else:\n",
        "    list3.append(i)\n",
        "print(list3)\n",
        "\n",
        "#2nd solution\n",
        "list1 = [12, 2, 34, 10, 4, 18, 10]\n",
        "list2 = [12, 100, 10, 4, 5, 50]\n",
        "\n",
        "list3 = list(set(list1) - set(list2))\n",
        "\n",
        "print(list3)\n",
        "\n",
        "\n",
        "\n"
      ],
      "metadata": {
        "colab": {
          "base_uri": "https://localhost:8080/"
        },
        "id": "k6kXi6XFKzV4",
        "outputId": "11258409-44a5-4746-ced6-fb756a4fae58"
      },
      "execution_count": null,
      "outputs": [
        {
          "output_type": "stream",
          "name": "stdout",
          "text": [
            "[2, 34, 18]\n",
            "[2, 18, 34]\n"
          ]
        }
      ]
    },
    {
      "cell_type": "markdown",
      "source": [
        "#Q4"
      ],
      "metadata": {
        "id": "Bd8HS0pgMKsM"
      }
    },
    {
      "cell_type": "markdown",
      "source": [
        "Display the minimum, maximum, sum, average, length, and median for the list below.\n",
        "\n",
        "Numbers = [10, 20, 20, 12, 30, 45, 2.4, 1.5]"
      ],
      "metadata": {
        "id": "EE1K-6zFMMQd"
      }
    },
    {
      "cell_type": "code",
      "source": [
        "numbers = [10, 20, 20, 12, 30, 45, 2.4, 1.5]\n",
        "\n",
        "minimum = min(numbers)\n",
        "maximum= max(numbers)\n",
        "total = sum(numbers)\n",
        "average= total / len(numbers)\n",
        "length = len(numbers)\n",
        "sorted_numbers= sorted(numbers)\n",
        "median = numbers[length//2] if length %2 !=0 else (numbers[length//2] + numbers[length//2-1])/2 \n",
        "print(f\"Minimum: {minimum}\")\n",
        "print(f\"Maximum: {maximum}\")\n",
        "print(f\"Sum: {total}\")\n",
        "print(f\"Average: {average}\")\n",
        "print(f\"Length: {length}\")\n",
        "print(f\"Median: {median}\")"
      ],
      "metadata": {
        "id": "48z7cnHkMP4l",
        "colab": {
          "base_uri": "https://localhost:8080/"
        },
        "outputId": "b840d930-d24c-4320-9973-ee25a53239d8"
      },
      "execution_count": null,
      "outputs": [
        {
          "output_type": "stream",
          "name": "stdout",
          "text": [
            "Minimum: 1.5\n",
            "Maximum: 45\n",
            "Sum: 140.9\n",
            "Average: 17.6125\n",
            "Length: 8\n",
            "Median: 21.0\n"
          ]
        }
      ]
    }
  ]
}