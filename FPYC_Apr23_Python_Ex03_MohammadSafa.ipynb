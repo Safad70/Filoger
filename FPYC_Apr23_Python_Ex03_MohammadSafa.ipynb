{
  "nbformat": 4,
  "nbformat_minor": 0,
  "metadata": {
    "colab": {
      "provenance": [],
      "toc_visible": true,
      "include_colab_link": true
    },
    "kernelspec": {
      "name": "python3",
      "display_name": "Python 3"
    },
    "language_info": {
      "name": "python"
    }
  },
  "cells": [
    {
      "cell_type": "markdown",
      "metadata": {
        "id": "view-in-github",
        "colab_type": "text"
      },
      "source": [
        "<a href=\"https://colab.research.google.com/github/Safad70/Filoger/blob/main/FPYC_Apr23_Python_Ex03_MohammadSafa.ipynb\" target=\"_parent\"><img src=\"https://colab.research.google.com/assets/colab-badge.svg\" alt=\"Open In Colab\"/></a>"
      ]
    },
    {
      "cell_type": "markdown",
      "source": [
        "#Q1"
      ],
      "metadata": {
        "id": "t1JEBZkuSvhp"
      }
    },
    {
      "cell_type": "markdown",
      "source": [
        "Get a string from input and display the first, last and middle characters.:\n",
        "\n",
        "\n"
      ],
      "metadata": {
        "id": "SnZAdRtSDGX7"
      }
    },
    {
      "cell_type": "code",
      "source": [
        "sentence= input(\"please enter your sentence:\")\n",
        "print(f'First character of \"{sentence}\" is: {sentence[0]}')\n",
        "print(f\"Last character of {sentence} is: {sentence[-1]}\")\n",
        "length= len(sentence)\n",
        "mid =length //2\n",
        "if length % 2 == 0:\n",
        "  print(f'middle characters of \"{sentence}\" is: {sentence[mid-1:mid+1]}' )\n",
        "else:\n",
        "  print(f'middle characters of \"{sentence}\" is: {sentence[mid]}')\n"
      ],
      "metadata": {
        "colab": {
          "base_uri": "https://localhost:8080/"
        },
        "id": "Is-syUlY4D0P",
        "outputId": "5046543b-ab1d-4dbd-f7b6-b37358998e0f"
      },
      "execution_count": null,
      "outputs": [
        {
          "output_type": "stream",
          "name": "stdout",
          "text": [
            "please enter your sentence:Python\n",
            "First character of \"Python\" is: P\n",
            "Last character of Python is: n\n",
            "middle characters of \"Python\" is: th\n"
          ]
        },
        {
          "output_type": "execute_result",
          "data": {
            "text/plain": [
              "6"
            ]
          },
          "metadata": {},
          "execution_count": 16
        }
      ]
    },
    {
      "cell_type": "markdown",
      "source": [
        "#Q2"
      ],
      "metadata": {
        "id": "jFhz7unMGKO1"
      }
    },
    {
      "cell_type": "markdown",
      "source": [
        "Get three strings from the input and display in the output any one whose length is greater than the average length of the three strings."
      ],
      "metadata": {
        "id": "DPdAUjXV-4lD"
      }
    },
    {
      "cell_type": "code",
      "source": [
        "string1 = input(\"Enter first string: \")\n",
        "string2 = input(\"Enter second string: \")\n",
        "string3 = input(\"Enter third string: \")\n",
        "\n",
        "average_length = (len(string1) + len(string2) + len(string3)) / 3\n",
        "\n",
        "if len(string1) > average_length:\n",
        "    print(string1)\n",
        "if len(string2) > average_length:\n",
        "    print(string2)\n",
        "if len(string3) > average_length:\n",
        "    print(string3)"
      ],
      "metadata": {
        "id": "vkiJIMyJC-h9"
      },
      "execution_count": null,
      "outputs": []
    },
    {
      "cell_type": "markdown",
      "source": [
        "# Q3"
      ],
      "metadata": {
        "id": "ipxVUR2pHm1Y"
      }
    },
    {
      "cell_type": "markdown",
      "source": [
        "Get two strings from the input, if the second string is present in the first string, remove it, otherwise add the second string at the start and end of the first string. Display the new string in the output."
      ],
      "metadata": {
        "id": "cHh66QWyEy1T"
      }
    },
    {
      "cell_type": "code",
      "source": [
        "string1 = input(\"Enter first string: \")\n",
        "string2 = input(\"Enter second string: \")\n",
        "\n",
        "if string2 in string1:\n",
        "    new_string = string1.replace(string2, \"\")\n",
        "else:\n",
        "    new_string = string2 + string1 + string2\n",
        "\n",
        "print(new_string)"
      ],
      "metadata": {
        "colab": {
          "base_uri": "https://localhost:8080/"
        },
        "id": "PrBzu6xSHqXR",
        "outputId": "0f841132-7ee5-4e40-efc3-c7d0cf105f4a"
      },
      "execution_count": null,
      "outputs": [
        {
          "output_type": "stream",
          "name": "stdout",
          "text": [
            "Enter first string: hello\n",
            "Enter second string: ''\n",
            "''hello''\n"
          ]
        }
      ]
    },
    {
      "cell_type": "markdown",
      "source": [
        "# Q4"
      ],
      "metadata": {
        "id": "TJeLMkPrIJLV"
      }
    },
    {
      "cell_type": "markdown",
      "source": [
        "Find four new methods for strings."
      ],
      "metadata": {
        "id": "R1M9p-98FjSS"
      }
    },
    {
      "cell_type": "code",
      "source": [
        "#isalnum()\tReturns True if all characters in the string are alphanumeric\n",
        "#isalpha()\tReturns True if all characters in the string are in the alphabet\n",
        "#isascii()\tReturns True if all characters in the string are ascii characters\n",
        "#isdecimal()\tReturns True if all characters in the string are decimals\n",
        "#isdigit()\tReturns True if all characters in the string are digits\n",
        "#isidentifier()\tReturns True if the string is an identifier\n",
        "#https://www.w3schools.com/python/python_ref_string.asp"
      ],
      "metadata": {
        "id": "Rqd024faIOYm"
      },
      "execution_count": null,
      "outputs": []
    }
  ]
}