{
  "cells": [
    {
      "cell_type": "markdown",
      "metadata": {
        "id": "view-in-github",
        "colab_type": "text"
      },
      "source": [
        "<a href=\"https://colab.research.google.com/github/Safad70/Filoger/blob/main/FPYC_Apr23_Ex_07%2608_Mohammad_Safa_Dastmard.ipynb\" target=\"_parent\"><img src=\"https://colab.research.google.com/assets/colab-badge.svg\" alt=\"Open In Colab\"/></a>"
      ]
    },
    {
      "cell_type": "markdown",
      "metadata": {
        "id": "MKMr8L2AQZah"
      },
      "source": [
        "<div>\n",
        "<h2 style=\"background-color:Purple;text-align:center;border-radius:40px;border: 1px;padding: 20px;\"><b>Filoger Hands On Prerequisite Python For AI <br>Exercises 07 & 08 | Deadline: 2023 9 May <br> Score: 700</h2>\n",
        "</div>"
      ]
    },
    {
      "cell_type": "markdown",
      "metadata": {
        "id": "9PTMOVyvQZal"
      },
      "source": [
        "# Name"
      ]
    },
    {
      "cell_type": "code",
      "execution_count": null,
      "metadata": {
        "id": "uTLuDSB0QZam"
      },
      "outputs": [],
      "source": [
        "# Mohammad Safa, Dastmard"
      ]
    },
    {
      "cell_type": "markdown",
      "metadata": {
        "id": "MgRxQHsKQZao"
      },
      "source": [
        "<h3 style=\"background-color:#ff3300\n",
        ";text-align:center;border-radius:40px;border: 1px;padding: 10px;\"><b>Exercises 07<br>Score: 400</h3>"
      ]
    },
    {
      "cell_type": "markdown",
      "metadata": {
        "id": "EMF2VgrSQZap"
      },
      "source": [
        "<h5 style=\"background-color:#1765e3;text-align:left;border-radius:40px;border: 1px;padding: 10px;\"><b>1- Write the product management project (exercise 6) using functions. (150)</h5>"
      ]
    },
    {
      "cell_type": "code",
      "execution_count": null,
      "metadata": {
        "id": "YRjL44K9QZaq"
      },
      "outputs": [],
      "source": [
        "products = []\n",
        "\n",
        "def add_product(name, price):\n",
        "    for product in products:\n",
        "        if product['name'] == name:\n",
        "            print('Product already exists')\n",
        "            return\n",
        "    products.append({'name': name, 'price': price})\n",
        "    print('Product added successfully')\n",
        "\n",
        "def delete_product(name):\n",
        "    for product in products:\n",
        "        if product['name'] == name:\n",
        "            products.remove(product)\n",
        "            print('Product deleted successfully')\n",
        "            return\n",
        "    print('Product not found')\n",
        "\n",
        "def edit_product(name, price):\n",
        "    for product in products:\n",
        "        if product['name'] == name:\n",
        "            product['price'] = price\n",
        "            print('Product edited successfully')\n",
        "            return\n",
        "    print('Product not found')\n",
        "\n",
        "def detail():\n",
        "    total_products = len(products)\n",
        "    if total_products == 0:\n",
        "        print('No products found')\n",
        "        return\n",
        "    total_price = sum([product['price'] for product in products])\n",
        "    average_price = total_price / total_products\n",
        "    most_expensive_product = max(products, key=lambda x: x['price'])\n",
        "    cheapest_product = min(products, key=lambda x: x['price'])\n",
        "    \n",
        "    print(f'Total number of products: {total_products}')\n",
        "    print(f'Average price: {average_price}')\n",
        "    print(f'Most expensive product: {most_expensive_product[\"name\"]} ({most_expensive_product[\"price\"]})')\n",
        "    print(f'Cheapest product: {cheapest_product[\"name\"]} ({cheapest_product[\"price\"]})')\n",
        "\n",
        "def search(name):\n",
        "    for product in products:\n",
        "        if name.lower() in product['name'].lower():\n",
        "            print(f'{product[\"name\"]}: {product[\"price\"]}')\n",
        "            \n",
        "def main():\n",
        "    while True:\n",
        "        command = input('Enter command (add/delete/edit/detail/search/exit): ')\n",
        "        \n",
        "        if command == 'add':\n",
        "            name = input('Enter name: ')\n",
        "            price = float(input('Enter price: '))\n",
        "            add_product(name, price)\n",
        "            \n",
        "        elif command == 'delete':\n",
        "            name = input('Enter name: ')\n",
        "            delete_product(name)\n",
        "            \n",
        "        elif command == 'edit':\n",
        "            name = input('Enter name: ')\n",
        "            price = float(input('Enter new price: '))\n",
        "            edit_product(name, price)\n",
        "            \n",
        "        elif command == 'detail':\n",
        "            detail()\n",
        "            \n",
        "        elif command == 'search':\n",
        "            name = input('Enter name to search for: ')\n",
        "            search(name)\n",
        "            \n",
        "        elif command == 'exit':\n",
        "            break\n",
        "            \n",
        "    print('Goodbye!')\n",
        "\n",
        "if __name__ == '__main__':\n",
        "    main()"
      ]
    },
    {
      "cell_type": "markdown",
      "metadata": {
        "id": "EnvvO9S9QZaq"
      },
      "source": [
        "<h5 style=\"background-color:#1765e3;text-align:left;border-radius:40px;border: 1px;padding: 10px;\"><b>2- Write the question 2 of exercise 5 using functions (100)</h5>"
      ]
    },
    {
      "cell_type": "code",
      "execution_count": null,
      "metadata": {
        "id": "nlsN71KZQZar"
      },
      "outputs": [],
      "source": [
        "def add(a, b):\n",
        "    return a + b\n",
        "\n",
        "def subtract(a, b):\n",
        "    return a - b\n",
        "\n",
        "def multiply(a, b):\n",
        "    return a * b\n",
        "\n",
        "def divide(a, b):\n",
        "    if b == 0:\n",
        "        return \"Error\"\n",
        "    else:\n",
        "        return a / b\n",
        "\n",
        "def calculate(entry):\n",
        "    try:\n",
        "        if \"+\" in entry:\n",
        "            a , b = entry.split(\"+\")\n",
        "            return f\"{a} + {b} = {add(int(a), int(b))}\"\n",
        "\n",
        "        elif \"-\" in entry:  \n",
        "            a , b = entry.split(\"-\")\n",
        "            return f\"{a} - {b} = {subtract(int(a), int(b))}\"\n",
        "\n",
        "        elif \"*\" in entry:\n",
        "            a , b = entry.split(\"*\")\n",
        "            return f\"{a} * {b} = {multiply(int(a), int(b))}\"\n",
        "\n",
        "        elif \"/\" in entry:\n",
        "            a , b = entry.split(\"/\")\n",
        "            return f\"{a} / {b} = {divide(int(a), int(b))}\"\n",
        "        else:\n",
        "            return \"I am sorry, I am just a basic calculator, please be nice with me ;)\"\n",
        "    except:\n",
        "        return \"Err\"\n",
        "\n",
        "entry= input(\"Please enter the problem: \")\n",
        "print(calculate(entry))"
      ]
    },
    {
      "cell_type": "markdown",
      "metadata": {
        "id": "5mup8XFCQZas"
      },
      "source": [
        "<h5 style=\"background-color:#1765e3;text-align:left;border-radius:40px;border: 1px;padding: 10px;\"><b>3- Receive two strings from the user in the following format, then receive one of the +, - and * and perform the requested calculations.(150)</h5>"
      ]
    },
    {
      "cell_type": "code",
      "execution_count": null,
      "metadata": {
        "id": "I5B0AlykQZat"
      },
      "outputs": [],
      "source": [
        "def calculate(input_1, input_2, operator):\n",
        "    list_1 = input_1.split()\n",
        "    list_2 = input_2.split()\n",
        "    result = []\n",
        "    for i in range(min(len(list_1), len(list_2))):\n",
        "        if operator == \"+\":\n",
        "            result.append(int(list_1[i]) + int(list_2[i]))\n",
        "        elif operator == \"-\":\n",
        "            result.append(int(list_1[i]) - int(list_2[i]))\n",
        "        elif operator == \"*\":\n",
        "            result.append(int(list_1[i]) * int(list_2[i]))\n",
        "    return \" \".join(str(x) for x in result)\n",
        "\n",
        "input_1 = input(\"Please enter a number\")\n",
        "input_2 = input\"Please enter the second number\"\n",
        "operator = input(\"Please enter the operator\")\n",
        "print(calculate(input_1, input_2, operator))"
      ]
    },
    {
      "cell_type": "markdown",
      "metadata": {
        "id": "cwwFQ1aHQZat"
      },
      "source": [
        "<h3 style=\"background-color:#ff3300\n",
        ";text-align:center;border-radius:40px;border: 1px;padding: 10px;\"><b>Exercises 08<br>Score: 300</h3>"
      ]
    },
    {
      "cell_type": "markdown",
      "metadata": {
        "id": "Gql24qw7QZau"
      },
      "source": [
        "<h5 style=\"background-color:#1765e3;text-align:left;border-radius:40px;border: 1px;padding: 10px;\"><b>1- (Dictionary) : Answer the following questions based on the dictionary topic.\n",
        "</h5>"
      ]
    },
    {
      "cell_type": "markdown",
      "metadata": {
        "id": "dHMrHsu-QZau"
      },
      "source": [
        "<h5>A) Create a product dictionary that contains the following information.</h5>"
      ]
    },
    {
      "cell_type": "code",
      "execution_count": null,
      "metadata": {
        "id": "3fFnfO3TQZav"
      },
      "outputs": [],
      "source": [
        "product = {\n",
        "    'code': '',\n",
        "    'name': '',\n",
        "    'price': 0.0,\n",
        "    'quantity': 0,\n",
        "    'sales_branch': ''\n",
        "}\n"
      ]
    },
    {
      "cell_type": "markdown",
      "metadata": {
        "id": "JsxgbJ8PQZav"
      },
      "source": [
        "<h5>B) Get a number from the user and create a list of products as long as the entered number.</h5>"
      ]
    },
    {
      "cell_type": "code",
      "execution_count": null,
      "metadata": {
        "id": "9QPSxVbZQZav",
        "colab": {
          "base_uri": "https://localhost:8080/"
        },
        "outputId": "03558d9c-e941-4716-d2a0-2d2ccb2e6a21"
      },
      "outputs": [
        {
          "name": "stdout",
          "output_type": "stream",
          "text": [
            "Enter the number of products: 1\n",
            "Enter product code: 2\n",
            "Enter product name: 1\n",
            "Enter product price: 1\n",
            "Enter product quantity: 1\n",
            "Enter sales branch: 1\n"
          ]
        }
      ],
      "source": [
        "num_products = int(input(\"Enter the number of products: \"))\n",
        "products = [product.copy() for _ in range(num_products)]\n",
        "for i in range(num_products):\n",
        "    products[i]['code'] = input(\"Enter product code: \")\n",
        "    products[i]['name'] = input(\"Enter product name: \")\n",
        "    products[i]['price'] = float(input(\"Enter product price: \"))\n",
        "    products[i]['quantity'] = int(input(\"Enter product quantity: \"))\n",
        "    products[i]['sales_branch'] = input(\"Enter sales branch: \")"
      ]
    },
    {
      "cell_type": "markdown",
      "metadata": {
        "id": "w_e39SMAQZaw"
      },
      "source": [
        "<h5>C) Display the price of the first product.</h5>"
      ]
    },
    {
      "cell_type": "code",
      "execution_count": null,
      "metadata": {
        "id": "p0tDc3g3QZaw"
      },
      "outputs": [],
      "source": [
        "print(f\"Price of the first product is {products[0]['price']}\")\n"
      ]
    },
    {
      "cell_type": "markdown",
      "metadata": {
        "id": "ln4I9ywEQZaw"
      },
      "source": [
        "<h5>D) Remove the branch from all products.</h5>"
      ]
    },
    {
      "cell_type": "code",
      "execution_count": null,
      "metadata": {
        "id": "IVUqdfZAQZax"
      },
      "outputs": [],
      "source": [
        "for i in range(num_products):\n",
        "    del products[i]['sales_branch']"
      ]
    },
    {
      "cell_type": "markdown",
      "metadata": {
        "id": "eU-_VRO8QZax"
      },
      "source": [
        "<h5>E) Display product prices in a list in order.</h5>"
      ]
    },
    {
      "cell_type": "code",
      "execution_count": null,
      "metadata": {
        "id": "ib2ncXETQZay"
      },
      "outputs": [],
      "source": [
        "prices = [product['price'] for product in products]\n",
        "print(f\"Product prices in order: {sorted(prices)}\")"
      ]
    },
    {
      "cell_type": "markdown",
      "metadata": {
        "id": "HC_NZSvJQZay"
      },
      "source": [
        "<h5> F) Show average prices.</h5>"
      ]
    },
    {
      "cell_type": "code",
      "execution_count": null,
      "metadata": {
        "id": "YCV88YYBQZay"
      },
      "outputs": [],
      "source": [
        "average_price = sum(prices) / len(prices)\n",
        "print(f\"Average price is {average_price}\")"
      ]
    }
  ],
  "metadata": {
    "kernelspec": {
      "display_name": "base",
      "language": "python",
      "name": "python3"
    },
    "language_info": {
      "name": "python",
      "version": "3.9.16"
    },
    "orig_nbformat": 4,
    "colab": {
      "provenance": [],
      "include_colab_link": true
    }
  },
  "nbformat": 4,
  "nbformat_minor": 0
}