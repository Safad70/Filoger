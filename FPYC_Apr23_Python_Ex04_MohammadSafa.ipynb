{
  "nbformat": 4,
  "nbformat_minor": 0,
  "metadata": {
    "colab": {
      "provenance": [],
      "toc_visible": true,
      "include_colab_link": true
    },
    "kernelspec": {
      "name": "python3",
      "display_name": "Python 3"
    },
    "language_info": {
      "name": "python"
    }
  },
  "cells": [
    {
      "cell_type": "markdown",
      "metadata": {
        "id": "view-in-github",
        "colab_type": "text"
      },
      "source": [
        "<a href=\"https://colab.research.google.com/github/Safad70/Filoger/blob/main/FPYC_Apr23_Python_Ex04_MohammadSafa.ipynb\" target=\"_parent\"><img src=\"https://colab.research.google.com/assets/colab-badge.svg\" alt=\"Open In Colab\"/></a>"
      ]
    },
    {
      "cell_type": "markdown",
      "source": [
        "#Q1"
      ],
      "metadata": {
        "id": "t1JEBZkuSvhp"
      }
    },
    {
      "cell_type": "markdown",
      "source": [
        "Display the following pattern in the output."
      ],
      "metadata": {
        "id": "SnZAdRtSDGX7"
      }
    },
    {
      "cell_type": "code",
      "source": [
        "word = input()\n",
        "\n",
        "for i in range(len(word)):\n",
        "    print(word[:i+1])"
      ],
      "metadata": {
        "colab": {
          "base_uri": "https://localhost:8080/"
        },
        "id": "Is-syUlY4D0P",
        "outputId": "2ea11e1a-844b-4f17-956a-09fcab5d571a"
      },
      "execution_count": null,
      "outputs": [
        {
          "output_type": "stream",
          "name": "stdout",
          "text": [
            "PYTHON\n",
            "P\n",
            "PY\n",
            "PYT\n",
            "PYTH\n",
            "PYTHO\n",
            "PYTHON\n"
          ]
        }
      ]
    },
    {
      "cell_type": "markdown",
      "source": [
        "#Q2"
      ],
      "metadata": {
        "id": "jFhz7unMGKO1"
      }
    },
    {
      "cell_type": "markdown",
      "source": [
        "Find the number of vowel characters (a, e, i, o, u) in the text below.\n",
        "“Python is a high-level, general-purpose programming language.”"
      ],
      "metadata": {
        "id": "DPdAUjXV-4lD"
      }
    },
    {
      "cell_type": "code",
      "source": [
        "text = \"Python is a high-level, general-purpose programming language.\"\n",
        "vowels = \"aeiouAEIOU\"\n",
        "count = 0\n",
        "\n",
        "for char in text:\n",
        "    if char in vowels:\n",
        "        count += 1\n",
        "\n",
        "print(\"Number of vowels:\", count)"
      ],
      "metadata": {
        "id": "vkiJIMyJC-h9",
        "colab": {
          "base_uri": "https://localhost:8080/"
        },
        "outputId": "f528dfe9-9255-4247-efd5-33a10e7aa09f"
      },
      "execution_count": null,
      "outputs": [
        {
          "output_type": "stream",
          "name": "stdout",
          "text": [
            "Number of vowels: 19\n"
          ]
        }
      ]
    },
    {
      "cell_type": "markdown",
      "source": [
        "# Q3"
      ],
      "metadata": {
        "id": "ipxVUR2pHm1Y"
      }
    },
    {
      "cell_type": "markdown",
      "source": [
        "Get a number from the input and display the following result.\n",
        "Input: 5\n",
        "Output:5 * 0 = 0\n",
        "5 * 2 = 10\n",
        "5 * 4 = 20\n",
        "5 * 6 = 30\n",
        "5 * 8 = 40\n",
        "5 * 10 = 50"
      ],
      "metadata": {
        "id": "cHh66QWyEy1T"
      }
    },
    {
      "cell_type": "code",
      "source": [
        "num = int(input(\"Enter a number: \"))\n",
        "\n",
        "for i in range(0, 11, 2):\n",
        "    print(num, \"*\", i, \"=\", num*i)"
      ],
      "metadata": {
        "colab": {
          "base_uri": "https://localhost:8080/"
        },
        "id": "PrBzu6xSHqXR",
        "outputId": "15cd99dd-a80a-4bc6-8c50-41a8755fd53d"
      },
      "execution_count": null,
      "outputs": [
        {
          "output_type": "stream",
          "name": "stdout",
          "text": [
            "Enter a number: 5\n",
            "5 * 0 = 0\n",
            "5 * 2 = 10\n",
            "5 * 4 = 20\n",
            "5 * 6 = 30\n",
            "5 * 8 = 40\n",
            "5 * 10 = 50\n"
          ]
        }
      ]
    },
    {
      "cell_type": "markdown",
      "source": [
        "# Q4"
      ],
      "metadata": {
        "id": "TJeLMkPrIJLV"
      }
    },
    {
      "cell_type": "markdown",
      "source": [
        "Get a number from the input and display the following result.\n",
        "Input: 5\n",
        "Output:5 / 0 = Error\n",
        "5 / 1 = 5\n",
        "5 / 2 = 2\n",
        "5 / 3 = 1\n",
        "5 / 4 = 1"
      ],
      "metadata": {
        "id": "R1M9p-98FjSS"
      }
    },
    {
      "cell_type": "code",
      "source": [
        "num = int(input(\"Enter a number: \"))\n",
        "\n",
        "for i in range(5):\n",
        "    if i == 0:\n",
        "        print(num, \"/\", i, \"= Error\")\n",
        "    else:\n",
        "        print(num, \"/\", i, \"=\", num//i)"
      ],
      "metadata": {
        "id": "Rqd024faIOYm",
        "colab": {
          "base_uri": "https://localhost:8080/"
        },
        "outputId": "d08379c5-0267-45b8-c309-73c536fc0f21"
      },
      "execution_count": null,
      "outputs": [
        {
          "output_type": "stream",
          "name": "stdout",
          "text": [
            "Enter a number: 5\n",
            "5 / 0 = Error\n",
            "5 / 1 = 5\n",
            "5 / 2 = 2\n",
            "5 / 3 = 1\n",
            "5 / 4 = 1\n"
          ]
        }
      ]
    }
  ]
}