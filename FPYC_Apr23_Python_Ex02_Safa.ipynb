{
  "nbformat": 4,
  "nbformat_minor": 0,
  "metadata": {
    "colab": {
      "provenance": [],
      "include_colab_link": true
    },
    "kernelspec": {
      "name": "python3",
      "display_name": "Python 3"
    },
    "language_info": {
      "name": "python"
    }
  },
  "cells": [
    {
      "cell_type": "markdown",
      "metadata": {
        "id": "view-in-github",
        "colab_type": "text"
      },
      "source": [
        "<a href=\"https://colab.research.google.com/github/Safad70/Filoger/blob/main/FPYC_Apr23_Python_Ex02_Safa.ipynb\" target=\"_parent\"><img src=\"https://colab.research.google.com/assets/colab-badge.svg\" alt=\"Open In Colab\"/></a>"
      ]
    },
    {
      "cell_type": "markdown",
      "source": [
        "#Q1\n"
      ],
      "metadata": {
        "id": "6SbtvfXESj6F"
      }
    },
    {
      "cell_type": "code",
      "execution_count": 2,
      "metadata": {
        "colab": {
          "base_uri": "https://localhost:8080/"
        },
        "id": "Z80XOI9PSVh2",
        "outputId": "cb71975f-d619-4181-e3c9-621c32e58b26"
      },
      "outputs": [
        {
          "output_type": "stream",
          "name": "stdout",
          "text": [
            "Please enter a number -3\n",
            "Absloute value is 3.0\n"
          ]
        }
      ],
      "source": [
        "num = float(input(\"Please enter a number \"))\n",
        "\n",
        "if num >= 0:\n",
        "  print(f\"Absloute value is {num}\")\n",
        "else:\n",
        "  print(f\"Absloute value is {-num}\")"
      ]
    },
    {
      "cell_type": "markdown",
      "source": [
        "#Q2"
      ],
      "metadata": {
        "id": "9uvN7JfxTcrr"
      }
    },
    {
      "cell_type": "code",
      "source": [
        "num1 = float(input(\"please enter 1st number \"))\n",
        "num2 = float(input(\"please enter 2nd number \"))\n",
        "num3 = float(input(\"please enter 3rd number \"))\n",
        "\n",
        "if (num1 <num2 and num3 < num1) or (num1 <num3 and num2 < num1):\n",
        "  print(num1)\n",
        "elif (num2 <num1 and num3 < num2) or (num2 <num3 and num1 < num2):\n",
        "  print(num2)\n",
        "else:\n",
        "  print(num3)"
      ],
      "metadata": {
        "colab": {
          "base_uri": "https://localhost:8080/"
        },
        "id": "u8gyKrD8TeeE",
        "outputId": "4de46fe0-0d36-4b10-e462-c15e4ff7e2ff"
      },
      "execution_count": null,
      "outputs": [
        {
          "output_type": "stream",
          "name": "stdout",
          "text": [
            "please enter 1st number 10\n",
            "please enter 2nd number 2030\n",
            "please enter 3rd number 203\n",
            "203.0\n"
          ]
        }
      ]
    },
    {
      "cell_type": "markdown",
      "source": [
        "#Q3"
      ],
      "metadata": {
        "id": "k8kaXws4e_Nk"
      }
    },
    {
      "cell_type": "code",
      "source": [
        "saved_user_name = \"Safa\"\n",
        "saved_password = \"Filoger\"\n",
        "user_name= input(\"Please enter the username: \")\n",
        "password = input(\"Please enter the password: \")\n",
        "\n",
        "if saved_user_name == user_name and saved_password == password:\n",
        "  print(\"Welcome\")\n",
        "\n",
        "elif saved_user_name == user_name and saved_password != password:\n",
        "  print(\"The entered password is wrong\")\n",
        "\n",
        "elif saved_user_name != user_name and saved_password == password:\n",
        "  print(\"The username entered is wrong\")\n",
        "else:\n",
        "  print(\"“the entered information is wrong\")\n"
      ],
      "metadata": {
        "colab": {
          "base_uri": "https://localhost:8080/"
        },
        "id": "kjtUwELgfBAz",
        "outputId": "8494263e-01be-49ec-d9ac-77e2e944dfb7"
      },
      "execution_count": null,
      "outputs": [
        {
          "output_type": "stream",
          "name": "stdout",
          "text": [
            "Please enter the username: 1\n",
            "Please enter the password: 1\n",
            "“the entered information is wrong\n"
          ]
        }
      ]
    }
  ]
}