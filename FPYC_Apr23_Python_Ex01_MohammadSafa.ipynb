{
  "nbformat": 4,
  "nbformat_minor": 0,
  "metadata": {
    "colab": {
      "provenance": [],
      "collapsed_sections": [
        "SnZAdRtSDGX7",
        "-blZBkEMDXam"
      ],
      "toc_visible": true,
      "include_colab_link": true
    },
    "kernelspec": {
      "name": "python3",
      "display_name": "Python 3"
    },
    "language_info": {
      "name": "python"
    }
  },
  "cells": [
    {
      "cell_type": "markdown",
      "metadata": {
        "id": "view-in-github",
        "colab_type": "text"
      },
      "source": [
        "<a href=\"https://colab.research.google.com/github/Safad70/Filoger/blob/main/Python_Ex01.ipynb\" target=\"_parent\"><img src=\"https://colab.research.google.com/assets/colab-badge.svg\" alt=\"Open In Colab\"/></a>"
      ]
    },
    {
      "cell_type": "markdown",
      "source": [
        "#Q1"
      ],
      "metadata": {
        "id": "t1JEBZkuSvhp"
      }
    },
    {
      "cell_type": "markdown",
      "source": [
        "##Change to float and integer:"
      ],
      "metadata": {
        "id": "SnZAdRtSDGX7"
      }
    },
    {
      "cell_type": "markdown",
      "source": [
        "Checking the type"
      ],
      "metadata": {
        "id": "9iY7Kf3Zpk73"
      }
    },
    {
      "cell_type": "code",
      "execution_count": null,
      "metadata": {
        "colab": {
          "base_uri": "https://localhost:8080/"
        },
        "id": "6atp7VFLSR3I",
        "outputId": "a689a134-7457-47bd-cf92-29304c18ad56"
      },
      "outputs": [
        {
          "output_type": "stream",
          "name": "stdout",
          "text": [
            "Checking the type\n",
            "<class 'float'>\n",
            "<class 'str'>\n",
            "<class 'str'>\n",
            "<class 'str'>\n",
            "<class 'bool'>\n",
            "Converting to Float\n",
            "12.6\n",
            "50.0\n",
            "20.0\n",
            "98234.0\n",
            "1.0\n",
            "Checking the type\n",
            "<class 'float'>\n",
            "<class 'float'>\n",
            "<class 'float'>\n",
            "<class 'float'>\n",
            "<class 'float'>\n",
            "12\n",
            "50\n",
            "20\n",
            "98234\n",
            "1\n",
            "Checking the type\n",
            "<class 'int'>\n",
            "<class 'int'>\n",
            "<class 'int'>\n",
            "<class 'int'>\n",
            "<class 'int'>\n",
            "12 :  <class 'int'>\n"
          ]
        }
      ],
      "source": [
        "#Float\n",
        "num1 = 12.6\n",
        "num2 = \"050\"\n",
        "num3 = \"20.\"\n",
        "student_num = \"s98234\"\n",
        "flag = True\n",
        "#checking the type\n",
        "print(\"Checking the type\")\n",
        "print(type(num1))\n",
        "print(type(num2))\n",
        "print(type(num3))\n",
        "print(type(student_num))\n",
        "print(type(flag))\n",
        "#Converting to Float\n",
        "print(\"Converting to Float\")\n",
        "print(float(num1))\n",
        "print(float(num2))\n",
        "print(float(num3))\n",
        "print(float(student_num[1:]))\n",
        "print(float(flag))\n",
        "#Checking if Float\n",
        "print(\"Checking the type\")\n",
        "print(type(float(num1)))\n",
        "print(type(float(num2)))\n",
        "print(type(float(num3)))\n",
        "print(type(float(student_num[1:])))\n",
        "print(type(float(flag)))\n",
        "#Converting to Integer\n",
        "print(int(num1))\n",
        "print(int(num2))\n",
        "print(int(float(num3)))\n",
        "print(int(student_num[1:]))\n",
        "print(int(flag))\n",
        "print(\"Checking the type\")\n",
        "print(type(int(num1)))\n",
        "print(type(int(num2)))\n",
        "print(type(int(float(num3))))\n",
        "print(type(int(student_num[1:])))\n",
        "print(type(int(flag)))\n",
        "\n",
        "print( int(num1), \": \", type(int(num1)))"
      ]
    },
    {
      "cell_type": "markdown",
      "source": [],
      "metadata": {
        "id": "b21Gr_GUptY_"
      }
    },
    {
      "cell_type": "code",
      "source": [
        "student_num = \"s98234\"\n",
        "float_num = float(student_num[n:])\n",
        "print(float_num)"
      ],
      "metadata": {
        "id": "TKoBnsd_TlOg",
        "outputId": "2c2ef234-87f7-4c90-f696-f3230aff3bba",
        "colab": {
          "base_uri": "https://localhost:8080/"
        }
      },
      "execution_count": null,
      "outputs": [
        {
          "output_type": "stream",
          "name": "stdout",
          "text": [
            "98234.0\n"
          ]
        }
      ]
    },
    {
      "cell_type": "markdown",
      "source": [
        "##Change to Boolean:"
      ],
      "metadata": {
        "id": "-blZBkEMDXam"
      }
    },
    {
      "cell_type": "markdown",
      "source": [
        "Checking the type"
      ],
      "metadata": {
        "id": "Z6M1uoJIDkOY"
      }
    },
    {
      "cell_type": "code",
      "source": [
        "num1 = -20\n",
        "num2 = 00\n",
        "flag = \"False\"\n",
        "print(\"Checking the type\")\n",
        "print(type(num1))\n",
        "print(type(num2))\n",
        "print(type(flag))\n",
        "\n",
        "#Convert to Bool\n",
        "print(\"Checking the type after Bool\")\n",
        "print(type(bool(num1)))\n",
        "print(type(bool(num2)))\n",
        "print(type(bool(flag)))"
      ],
      "metadata": {
        "colab": {
          "base_uri": "https://localhost:8080/"
        },
        "id": "EidZSbAnDnIp",
        "outputId": "d2f1ca98-b944-4330-f803-a4990d1fa177"
      },
      "execution_count": null,
      "outputs": [
        {
          "output_type": "stream",
          "name": "stdout",
          "text": [
            "Checking the type\n",
            "<class 'int'>\n",
            "<class 'int'>\n",
            "<class 'str'>\n",
            "Checking the type after Bool\n",
            "<class 'bool'>\n",
            "<class 'bool'>\n",
            "<class 'bool'>\n"
          ]
        }
      ]
    },
    {
      "cell_type": "markdown",
      "source": [
        "#Q2"
      ],
      "metadata": {
        "id": "jFhz7unMGKO1"
      }
    },
    {
      "cell_type": "code",
      "source": [
        "num1 = 20\n",
        "num2 = 19.\n",
        "num3 = \"18.5\"\n",
        "\n",
        "sum= float(num1)+float(num2)+float(num3)\n",
        "avg = sum/3\n",
        "print(avg)"
      ],
      "metadata": {
        "colab": {
          "base_uri": "https://localhost:8080/"
        },
        "id": "4WrPyhafGUZ9",
        "outputId": "e7a4e2d3-3b0d-49d0-9124-b8d9629abce6"
      },
      "execution_count": null,
      "outputs": [
        {
          "output_type": "stream",
          "name": "stdout",
          "text": [
            "19.166666666666668\n"
          ]
        }
      ]
    },
    {
      "cell_type": "markdown",
      "source": [
        "# Q3"
      ],
      "metadata": {
        "id": "ipxVUR2pHm1Y"
      }
    },
    {
      "cell_type": "code",
      "source": [
        "a = 10\n",
        "b = 5 \n",
        "print(a > b) # True"
      ],
      "metadata": {
        "colab": {
          "base_uri": "https://localhost:8080/"
        },
        "id": "PrBzu6xSHqXR",
        "outputId": "c3d0b421-d8ad-47b2-a44d-a61eb39400b1"
      },
      "execution_count": null,
      "outputs": [
        {
          "output_type": "stream",
          "name": "stdout",
          "text": [
            "True\n"
          ]
        }
      ]
    },
    {
      "cell_type": "markdown",
      "source": [
        "# Q4"
      ],
      "metadata": {
        "id": "TJeLMkPrIJLV"
      }
    },
    {
      "cell_type": "code",
      "source": [
        "length = float(input(\"Length \"))\n",
        "width = float(input(\"Width \"))\n",
        "\n",
        "#Perimiter \n",
        "perimiter = 2*(length+width)\n",
        "print(f\"Perimiter is {perimiter}\")\n",
        "#Area\n",
        "area = length*width\n",
        "print(f\"Area is {area}\")"
      ],
      "metadata": {
        "colab": {
          "base_uri": "https://localhost:8080/"
        },
        "id": "Rqd024faIOYm",
        "outputId": "27e738ff-77de-455f-f5dd-128731c0882b"
      },
      "execution_count": null,
      "outputs": [
        {
          "output_type": "stream",
          "name": "stdout",
          "text": [
            "Length 1\n",
            "Width 1\n",
            "Perimiter is 4.0\n",
            "Area is 1.0\n"
          ]
        }
      ]
    },
    {
      "cell_type": "markdown",
      "source": [
        "# Q5"
      ],
      "metadata": {
        "id": "4mXdXzN1K6OL"
      }
    },
    {
      "cell_type": "code",
      "source": [
        "import math\n",
        "pi = math.pi\n",
        "radius = float(input(\"Radius \"))\n",
        "\n",
        "circle_area = pi*radius**2\n",
        "rectangle_area = (radius*2)**2\n",
        "desired_area = rectangle_area - circle_area\n",
        "#print(desired_area , circle_area , rectangle_area)\n",
        "print(desired_area)"
      ],
      "metadata": {
        "colab": {
          "base_uri": "https://localhost:8080/"
        },
        "id": "s-cuDKq8K8yU",
        "outputId": "e3d617d1-75c2-4fff-8a32-b8526a3aa5b4"
      },
      "execution_count": null,
      "outputs": [
        {
          "output_type": "stream",
          "name": "stdout",
          "text": [
            "Radius 10\n",
            "85.84073464102067 314.1592653589793 400.0\n"
          ]
        }
      ]
    },
    {
      "cell_type": "markdown",
      "source": [
        "# Q6"
      ],
      "metadata": {
        "id": "cU3a5mxvOT9c"
      }
    },
    {
      "cell_type": "markdown",
      "source": [
        "num1 = num2 = num3 = 200"
      ],
      "metadata": {
        "id": "Deur9AWSOmh8"
      }
    },
    {
      "cell_type": "code",
      "source": [
        "num1 = num2 = num3 = 200\n",
        "\n",
        "print(f\"num1 is {num1}, num2 is {num2} and num3 is {num3}\")"
      ],
      "metadata": {
        "colab": {
          "base_uri": "https://localhost:8080/"
        },
        "id": "GyF2Xa4tOW0S",
        "outputId": "48b48c46-039e-45ad-c04a-6eecaadd7bff"
      },
      "execution_count": null,
      "outputs": [
        {
          "output_type": "stream",
          "name": "stdout",
          "text": [
            "200 200 200\n",
            "num1 is 200, num2 is 200 and num3 is 200\n"
          ]
        }
      ]
    },
    {
      "cell_type": "markdown",
      "source": [
        "num1 , num2 , num3 = 10, 20, 145"
      ],
      "metadata": {
        "id": "wFx2Q4TNOoSZ"
      }
    },
    {
      "cell_type": "code",
      "source": [
        "num1 , num2 , num3 = 10, 20, 145\n",
        "print(f\"num1 is {num1}, num2 is {num2} and num3 is {num3}\")"
      ],
      "metadata": {
        "colab": {
          "base_uri": "https://localhost:8080/"
        },
        "id": "OBU4i004OrAB",
        "outputId": "26e18117-a87e-4f83-eebe-8d151c9bd087"
      },
      "execution_count": null,
      "outputs": [
        {
          "output_type": "stream",
          "name": "stdout",
          "text": [
            "num1 is 10, num2 is 20 and num3 is 145\n"
          ]
        }
      ]
    },
    {
      "cell_type": "markdown",
      "source": [
        "num1 , num2 , num3 = 30, 100"
      ],
      "metadata": {
        "id": "_CIr-TEMOuRb"
      }
    },
    {
      "cell_type": "code",
      "source": [
        "#num1 , num2 , num3 = 30, 100\n",
        "#print(f\"num1 is {num1}, num2 is {num2} and num3 is {num3}\")\n",
        "#ValueError: not enough values to unpack (expected 3, got 2)\n",
        "# Instead of receiving 3 values it received 2 values by adding another number the error will be fixed\n",
        "\n",
        "num1 , num2 , num3 = 30, 100 , 100\n",
        "print(f\"num1 is {num1}, num2 is {num2} and num3 is {num3}\")"
      ],
      "metadata": {
        "colab": {
          "base_uri": "https://localhost:8080/"
        },
        "id": "5aLr1y0COvCi",
        "outputId": "f30759a1-9f50-434b-a89c-9571f004edfe"
      },
      "execution_count": null,
      "outputs": [
        {
          "output_type": "stream",
          "name": "stdout",
          "text": [
            "num1 is 30, num2 is 100 and num3 is 100\n"
          ]
        }
      ]
    }
  ]
}
